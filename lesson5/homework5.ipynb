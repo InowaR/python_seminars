{
  "nbformat": 4,
  "nbformat_minor": 0,
  "metadata": {
    "colab": {
      "provenance": [],
      "authorship_tag": "ABX9TyPctyrHE840LdaCK0BEDiPc",
      "include_colab_link": true
    },
    "kernelspec": {
      "name": "python3",
      "display_name": "Python 3"
    },
    "language_info": {
      "name": "python"
    }
  },
  "cells": [
    {
      "cell_type": "markdown",
      "metadata": {
        "id": "view-in-github",
        "colab_type": "text"
      },
      "source": [
        "<a href=\"https://colab.research.google.com/github/InowaR/python_seminars/blob/main/lesson5/homework5.ipynb\" target=\"_parent\"><img src=\"https://colab.research.google.com/assets/colab-badge.svg\" alt=\"Open In Colab\"/></a>"
      ]
    },
    {
      "cell_type": "code",
      "execution_count": 32,
      "metadata": {
        "colab": {
          "base_uri": "https://localhost:8080/"
        },
        "id": "MIOEtXK3RRS9",
        "outputId": "15565d21-4b5b-437b-e01d-b211254df581"
      },
      "outputs": [
        {
          "output_type": "stream",
          "name": "stdout",
          "text": [
            "0\n",
            "1\n",
            "1\n",
            "2\n",
            "3\n",
            "5\n",
            "8\n",
            "13\n",
            "21\n",
            "34\n"
          ]
        }
      ],
      "source": [
        "# Напишите функцию get_file_info, которая принимает на вход строку - абсолютный путь до файла.\n",
        "# Функция возвращает кортеж из трёх элементов: путь, имя файла, расширение файла.\n",
        "\n",
        "file_path = \"C:/Users/User/Documents/example.txt\"\n",
        "\n",
        "def get_file_info(file_path):\n",
        "  path_split = file_path.split('/')\n",
        "  filename = path_split[-1]\n",
        "  name, extension = filename.split('.')\n",
        "  arr = path_split[:-1]\n",
        "  path = '/'.join(arr)\n",
        "  return path, name, '.' + extension\n",
        "\n",
        "# get_file_info(file_path=file_path)\n",
        "\n",
        "\n",
        "# Напишите однострочный генератор словаря, который принимает на вход три списка одинаковой длины:\n",
        "# имена str, ставка int, премия str с указанием процентов вида 10.25%.\n",
        "# В результате result получаем словарь с именем в качестве ключа и суммой премии в качестве значения.\n",
        "# Сумма рассчитывается как ставка умноженная на процент премии.\n",
        "# Не забудьте распечатать в конце результат.\n",
        "\n",
        "def task2():\n",
        "  names = [\"Alice\", \"Bob\", \"Charlie\"]\n",
        "  salary = [5000, 6000, 7000]\n",
        "  bonus = [\"10%\", \"5%\", \"15%\"]\n",
        "  result = {name: salary * float(bonus.strip(\"%\")) / 100 for name, salary, bonus in zip(names, salary, bonus)}\n",
        "  print(result)\n",
        "\n",
        "# task2()\n",
        "\n",
        "# Создайте функцию генератор чисел Фибоначчи fibonacci.\n",
        "\n",
        "def fibonacci():\n",
        "    a, b = 0, 1\n",
        "    while True:\n",
        "        yield a\n",
        "        a, b = b, a + b\n",
        "\n",
        "f = fibonacci()\n",
        "for i in range(10):\n",
        "    print(next(f))"
      ]
    }
  ]
}