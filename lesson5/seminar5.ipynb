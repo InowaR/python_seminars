{
  "nbformat": 4,
  "nbformat_minor": 0,
  "metadata": {
    "colab": {
      "provenance": [],
      "authorship_tag": "ABX9TyPASYKJ1PyXed0CTikKSl3D",
      "include_colab_link": true
    },
    "kernelspec": {
      "name": "python3",
      "display_name": "Python 3"
    },
    "language_info": {
      "name": "python"
    }
  },
  "cells": [
    {
      "cell_type": "markdown",
      "metadata": {
        "id": "view-in-github",
        "colab_type": "text"
      },
      "source": [
        "<a href=\"https://colab.research.google.com/github/InowaR/python_seminars/blob/main/lesson5/seminar5.ipynb\" target=\"_parent\"><img src=\"https://colab.research.google.com/assets/colab-badge.svg\" alt=\"Open In Colab\"/></a>"
      ]
    },
    {
      "cell_type": "code",
      "execution_count": 78,
      "metadata": {
        "colab": {
          "base_uri": "https://localhost:8080/"
        },
        "id": "ATHutL6Ke_Zu",
        "outputId": "07ef98de-421a-44c2-b6a0-19ea82f5424c"
      },
      "outputs": [
        {
          "output_type": "stream",
          "name": "stdout",
          "text": [
            "2 3 5 7 11 13 17 19 23 29 "
          ]
        }
      ],
      "source": [
        "# Пользователь вводит строку из четырёх или более целых чисел, разделённых символом “/”.\n",
        "# Сформируйте словарь, где: ✔второе и третье число являются ключами.\n",
        "# ✔первое число является значением для первого ключа.\n",
        "# ✔четвертое и все возможные последующие числа хранятся в кортеже как значения второго ключа.\n",
        "\n",
        "# def task1():\n",
        "#     input_numbers = list(map(int, input(\"Введите строку из чисел, разделённых символом '/': \").split(\"/\")))\n",
        "#     a, b, c, *d = input_numbers\n",
        "#     print(my_dict := {b:a, c:d})\n",
        "# task1()\n",
        "\n",
        "\n",
        "# ✔Самостоятельно сохраните в переменной строку текста.\n",
        "# ✔Создайте из строки словарь, где ключ — буква, а значение — код буквы. ✔Напишите преобразование в одну строку.\n",
        "# ✔Возьмите словарь, который вы получили. Сохраните его итератор.\n",
        "# ✔Далее выведите первые 5 пар ключ-значение, обращаясь к итератору, а не к словарю.\n",
        "\n",
        "# def task2():\n",
        "#   string = \"Привет, мир!\"\n",
        "#   dictionary = dict(zip(string, map(ord, string)))\n",
        "#   print(dictionary)\n",
        "#   iterator = iter(dictionary.items())\n",
        "#   for i in range(5):\n",
        "#       print(next(iterator))\n",
        "# task2()\n",
        "\n",
        "\n",
        "# ✔Создайте генератор чётных чисел от нуля до 100.\n",
        "# ✔Из последовательности исключите числа, сумма цифр которых равна 8. ✔Решение в одну строку.\n",
        "\n",
        "\n",
        "# def task3():\n",
        "#   print(*(i for i in range(2, 101, 2) if sum(int(j) for j in str(i)) != 8))\n",
        "# task3()\n",
        "\n",
        "\n",
        "# ✔Напишите программу, которая выводит на экран числа от 1 до 100.\n",
        "# ✔При этом вместо чисел, кратных трем, программа должна выводить слово «Fizz»\n",
        "# ✔Вместо чисел, кратных пяти — слово «Buzz». ✔Если число кратно и 3, и 5, то программа должна выводить слово «FizzBuzz».\n",
        "# ✔*Превратите решение в генераторное выражение.\n",
        "\n",
        "# def task4():\n",
        "#   for i in range(1, 101):\n",
        "#       if i % 3 == 0 and i % 5 == 0:\n",
        "#           yield \"FizzBuzz\"\n",
        "#       elif i % 3 == 0:\n",
        "#           yield \"Fizz\"\n",
        "#       elif i % 5 == 0:\n",
        "#           yield \"Buzz\"\n",
        "#       else:\n",
        "#           yield i\n",
        "\n",
        "# print(*task4())\n",
        "\n",
        "\n",
        "# def fizzbuzz():\n",
        "#     yield from ('FizzBuzz' if i % 3 == 0 and i % 5 == 0\n",
        "#                 else \"Fizz\" if i % 3 == 0\n",
        "#                 else \"Buzz\" if i % 5 == 0\n",
        "#                 else i for i in range(1, 101))\n",
        "\n",
        "# print(*fizzbuzz())\n",
        "\n",
        "\n",
        "\n",
        "# def task5():\n",
        "#     for i in range(2, 10):\n",
        "#         for j in range(2, 10):\n",
        "#             yield f\"{i:>2} x {j:>2} = {i * j:>2}\"\n",
        "\n",
        "# print(\"\\n\".join(task5()))\n",
        "\n",
        "\n",
        "# def task5():\n",
        "#   print('\\n'.join([' '.join([f'{i} x {j} = {i * j}\\t' for j in range(2, 11)]) for i in range(2, 10)]))\n",
        "#   print('\\n\\n'.join(['\\n'.join(['\\t\\t'.join([f'{x:>2} x {y:>2} = {x*y:>3}' for x in range(2+k,6+k)]) for y in range(1,10)]) for k in [0,4]]))\n",
        "# task5()\n",
        "\n",
        "\n",
        "# ✔Создайте функцию-генератор. ✔Функция генерирует N простых чисел, начиная с числа 2.\n",
        "# ✔Для проверки числа на простоту используйте правило: «число является простым, если делится нацело только на единицу и на себя».\n",
        "\n",
        "\n",
        "import math\n",
        "from math import inf\n",
        "\n",
        "def simple():\n",
        "    yield 2\n",
        "    count = 0\n",
        "    num = 3\n",
        "    while count < inf:\n",
        "        is_simple = True\n",
        "        for i in range(2, int(num**0.5) + 1):\n",
        "            if num % i == 0:\n",
        "                is_simple = False\n",
        "                break\n",
        "        if is_simple:\n",
        "            yield num\n",
        "            count += 1\n",
        "        num += 1\n",
        "\n",
        "\n",
        "def task6():\n",
        "  generator = simple()\n",
        "  for i in range(10):\n",
        "    print(next(generator), end=' ')\n",
        "\n",
        "task6()"
      ]
    }
  ]
}