{
  "nbformat": 4,
  "nbformat_minor": 0,
  "metadata": {
    "colab": {
      "provenance": [],
      "authorship_tag": "ABX9TyPgYvgtle/bAT7Dprnwh93x",
      "include_colab_link": true
    },
    "kernelspec": {
      "name": "python3",
      "display_name": "Python 3"
    },
    "language_info": {
      "name": "python"
    }
  },
  "cells": [
    {
      "cell_type": "markdown",
      "metadata": {
        "id": "view-in-github",
        "colab_type": "text"
      },
      "source": [
        "<a href=\"https://colab.research.google.com/github/InowaR/python_seminars/blob/main/lesson4/homework4.ipynb\" target=\"_parent\"><img src=\"https://colab.research.google.com/assets/colab-badge.svg\" alt=\"Open In Colab\"/></a>"
      ]
    },
    {
      "cell_type": "code",
      "execution_count": 37,
      "metadata": {
        "colab": {
          "base_uri": "https://localhost:8080/"
        },
        "id": "fddd-poFLwY6",
        "outputId": "90d82873-73f7-41ab-c21a-5ab1d8e21779"
      },
      "outputs": [
        {
          "output_type": "stream",
          "name": "stdout",
          "text": [
            "[[1, 4, 7], [2, 5, 8], [3, 6, 9]]\n",
            "{1: 'a', 'hello': 'b', '[1, 2, 3]': 'c', '{}': 'd'}\n",
            "{'None': 'a', '': 'b', '[]': 'c', '{}': 'd'}\n",
            "['Пополнение карты на 1000 у.е. Итого 1000 у.е.', 'Снятие с карты 200 у.е. Процент за снятие 30 у.е.. Итого 770 у.е.', 'Возьмите карту на которой 770 у.е.']\n"
          ]
        }
      ],
      "source": [
        "matrix = [[1, 2, 3],\n",
        "         [4, 5, 6],\n",
        "         [7, 8, 9]]\n",
        "\n",
        "\n",
        "def transpose_matrix(matrix):\n",
        "  n_rows = len(matrix)\n",
        "  n_columns = len(matrix[0])\n",
        "  transposed_matrix = [[0] * n_rows for _ in range(n_columns)]\n",
        "  for i in range(n_rows):\n",
        "    for j in range(n_columns):\n",
        "      transposed_matrix[j][i] = matrix[i][j]\n",
        "  return transposed_matrix\n",
        "\n",
        "transposed_matrix = transpose_matrix(matrix)\n",
        "print(transposed_matrix)\n",
        "\n",
        "\n",
        "def key_params(**kwargs):\n",
        "  result = {}\n",
        "  for key, value in kwargs.items():\n",
        "      try:\n",
        "        hash(value)\n",
        "        if value == None:\n",
        "          result[str(value)] = key\n",
        "          continue\n",
        "        result[value] = key\n",
        "      except:\n",
        "        result[str(value)] = key\n",
        "  return result\n",
        "\n",
        "params = key_params(a=1, b='hello', c=[1, 2, 3], d={})\n",
        "print(params)\n",
        "params = key_params(a = None, b = '', c = [], d = {})\n",
        "print(params)\n",
        "\n",
        "\n",
        "import decimal\n",
        "\n",
        "MULTIPLICITY = 50\n",
        "PERCENT_REMOVAL = decimal.Decimal(15) / decimal.Decimal(1000)\n",
        "MIN_REMOVAL = decimal.Decimal(30)\n",
        "MAX_REMOVAL = decimal.Decimal(600)\n",
        "PERCENT_DEPOSIT = decimal.Decimal(3) / decimal.Decimal(100)\n",
        "COUNTER4PERCENTAGES = 3\n",
        "RICHNESS_PERCENT = decimal.Decimal(10) / decimal.Decimal(100)\n",
        "RICHNESS_SUM = decimal.Decimal(10_000_000)\n",
        "\n",
        "bank_account = decimal.Decimal(0)\n",
        "count = 0\n",
        "operations = []\n",
        "\n",
        "\n",
        "def check_multiplicity(amount):\n",
        "    if (amount % MULTIPLICITY) != 0:\n",
        "        print(f'Сумма должна быть кратной {MULTIPLICITY} у.е.')\n",
        "        return False\n",
        "    return True\n",
        "\n",
        "def deposit(amount):\n",
        "    global bank_account, count\n",
        "    if not check_multiplicity(amount):\n",
        "        print(f'Сумма должна быть кратной {MULTIPLICITY} у.е.')\n",
        "        return False\n",
        "    count += 1\n",
        "    bank_account += amount\n",
        "    operations.append(f'Пополнение карты на {amount} у.е. Итого {bank_account} у.е.')\n",
        "    return True\n",
        "\n",
        "\n",
        "def withdraw(amount):\n",
        "    global bank_account, count\n",
        "    percent = amount * PERCENT_REMOVAL\n",
        "    percent = MIN_REMOVAL if percent < MIN_REMOVAL else MAX_REMOVAL if percent > MAX_REMOVAL else percent\n",
        "    if bank_account >= amount + percent:\n",
        "        count += 1\n",
        "        bank_account = bank_account - amount - percent\n",
        "        operations.append(f'Снятие с карты {amount} у.е. Процент за снятие {int(percent)} у.е.. Итого {int(bank_account)} у.е.')\n",
        "    else:\n",
        "        operations.append(\n",
        "            f'Недостаточно средств. Сумма с комиссией {amount + int(percent)} у.е. На карте {int(bank_account)} у.е.')\n",
        "\n",
        "def exit():\n",
        "    global bank_account, operations\n",
        "    if bank_account > RICHNESS_SUM:\n",
        "        percent = bank_account * RICHNESS_PERCENT\n",
        "        bank_account -= percent\n",
        "        operations.append(\n",
        "            f'Вычтен налог на богатство {RICHNESS_PERCENT}% в сумме {percent} у.е. Итого {bank_account} у.е.')\n",
        "    operations.append(f'Возьмите карту на которой {bank_account} у.е.')\n",
        "\n",
        "\n",
        "deposit(1000)\n",
        "withdraw(200)\n",
        "exit()\n",
        "print(operations)"
      ]
    }
  ]
}