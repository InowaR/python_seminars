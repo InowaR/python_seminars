{
  "nbformat": 4,
  "nbformat_minor": 0,
  "metadata": {
    "colab": {
      "provenance": [],
      "authorship_tag": "ABX9TyMSY0AvjJ8/ajkZeakJelle",
      "include_colab_link": true
    },
    "kernelspec": {
      "name": "python3",
      "display_name": "Python 3"
    },
    "language_info": {
      "name": "python"
    }
  },
  "cells": [
    {
      "cell_type": "markdown",
      "metadata": {
        "id": "view-in-github",
        "colab_type": "text"
      },
      "source": [
        "<a href=\"https://colab.research.google.com/github/InowaR/python_seminars/blob/main/lesson10/homework10.ipynb\" target=\"_parent\"><img src=\"https://colab.research.google.com/assets/colab-badge.svg\" alt=\"Open In Colab\"/></a>"
      ]
    },
    {
      "cell_type": "code",
      "execution_count": 2,
      "metadata": {
        "colab": {
          "base_uri": "https://localhost:8080/"
        },
        "id": "Qj4R2sLTJeXC",
        "outputId": "278ce88f-233a-40ae-c1d3-411f9df7b74b"
      },
      "outputs": [
        {
          "output_type": "stream",
          "name": "stdout",
          "text": [
            "Совпадающие числа: [3, 12, 8, 41, 9, 14, 5]\n",
            "Количество совпадающих чисел: 7\n"
          ]
        }
      ],
      "source": [
        "class Animal:\n",
        "    def __init__(self, name):\n",
        "        self.name = name\n",
        "\n",
        "class Bird(Animal):\n",
        "    def __init__(self, name, wingspan):\n",
        "        super().__init__(name)\n",
        "        self.wingspan = wingspan\n",
        "\n",
        "    def wing_length(self):\n",
        "        return self.wingspan / 2\n",
        "\n",
        "class Fish(Animal):\n",
        "    def __init__(self, name, max_depth):\n",
        "        super().__init__(name)\n",
        "        self.max_depth = max_depth\n",
        "\n",
        "    def depth(self):\n",
        "        if self.max_depth < 10:\n",
        "            return \"Мелководная рыба\"\n",
        "        elif self.max_depth > 100:\n",
        "            return \"Глубоководная рыба\"\n",
        "        else:\n",
        "            return \"Средневодная рыба\"\n",
        "\n",
        "class Mammal(Animal):\n",
        "    def __init__(self, name, weight):\n",
        "        super().__init__(name)\n",
        "        self.weight = weight\n",
        "\n",
        "    def category(self):\n",
        "        if self.weight < 1:\n",
        "            return \"Малявка\"\n",
        "        elif self.weight > 200:\n",
        "            return \"Гигант\"\n",
        "        else:\n",
        "            return \"Обычный\"\n",
        "\n",
        "class AnimalFactory:\n",
        "    @staticmethod\n",
        "    def create_animal(animal_type, *args):\n",
        "        if animal_type == 'Bird':\n",
        "            return Bird(*args)\n",
        "        elif animal_type == 'Fish':\n",
        "            return Fish(*args)\n",
        "        elif animal_type == 'Mammal':\n",
        "            return Mammal(*args)\n",
        "        else:\n",
        "            raise ValueError('Недопустимый тип животного')\n",
        "\n",
        "\n",
        "# animal1 = AnimalFactory.create_animal('Bird', 'Орел', 200)\n",
        "# animal2 = AnimalFactory.create_animal('Fish', 'Лосось', 50)\n",
        "# animal3 = AnimalFactory.create_animal('Mammal', 'Слон', 5000)\n",
        "\n",
        "# print(animal1.wing_length())\n",
        "# print(animal2.depth())\n",
        "# print(animal3.category())\n",
        "\n",
        "class LotteryGame:\n",
        "    def __init__(self, list1, list2):\n",
        "        self.list1 = list1\n",
        "        self.list2 = list2\n",
        "\n",
        "    def compare_lists(self):\n",
        "        matching_numbers = []\n",
        "        for number in self.list1:\n",
        "            if number in self.list2:\n",
        "                matching_numbers.append(number)\n",
        "        if not matching_numbers:\n",
        "            print(\"Совпадающих чисел нет.\")\n",
        "        else:\n",
        "            print(\"Совпадающие числа:\", matching_numbers)\n",
        "            print(\"Количество совпадающих чисел:\", len(matching_numbers))\n",
        "\n",
        "# Пример использования\n",
        "list1 = [3, 12, 8, 41, 7, 21, 9, 14, 5, 30]\n",
        "list2 = [9, 5, 6, 12, 14, 22, 17, 41, 8, 3]\n",
        "\n",
        "game = LotteryGame(list1, list2)\n",
        "game.compare_lists()"
      ]
    }
  ]
}