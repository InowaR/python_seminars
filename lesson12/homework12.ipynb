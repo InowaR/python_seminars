{
  "nbformat": 4,
  "nbformat_minor": 0,
  "metadata": {
    "colab": {
      "provenance": [],
      "authorship_tag": "ABX9TyNo7DlzuZnmvMfjzdN2Orii",
      "include_colab_link": true
    },
    "kernelspec": {
      "name": "python3",
      "display_name": "Python 3"
    },
    "language_info": {
      "name": "python"
    }
  },
  "cells": [
    {
      "cell_type": "markdown",
      "metadata": {
        "id": "view-in-github",
        "colab_type": "text"
      },
      "source": [
        "<a href=\"https://colab.research.google.com/github/InowaR/python_seminars/blob/main/lesson12/homework12.ipynb\" target=\"_parent\"><img src=\"https://colab.research.google.com/assets/colab-badge.svg\" alt=\"Open In Colab\"/></a>"
      ]
    },
    {
      "cell_type": "code",
      "execution_count": 188,
      "metadata": {
        "colab": {
          "base_uri": "https://localhost:8080/"
        },
        "id": "ZYGLm6qAZKve",
        "outputId": "01ced323-7803-4da5-93b7-d38fc21d2d2a"
      },
      "outputs": [
        {
          "output_type": "stream",
          "name": "stdout",
          "text": [
            "Средний балл: 4.0\n",
            "Средний результат по тестам по математике: 75.0\n",
            "Студент: Иван Иванов\n",
            "Предметы: Математика, История\n"
          ]
        }
      ],
      "source": [
        "import csv\n",
        "\n",
        "\n",
        "class Student:\n",
        "    subjects = {}\n",
        "\n",
        "    def __init__(self, name, subjects_file):\n",
        "        self.name = name\n",
        "        self.load_subjects(subjects_file)\n",
        "\n",
        "    def __setattr__(self, name, value):\n",
        "        if name == 'name':\n",
        "            if not all(word.isalpha() and word[0].isupper() for word in value.split(' ')):\n",
        "                raise ValueError(\"ФИО должно состоять только из букв и начинаться с заглавной буквы\")\n",
        "            super().__setattr__(name, value)\n",
        "\n",
        "    def __getattr__(self, name):\n",
        "        if name in self.subjects:\n",
        "            return True\n",
        "        else:\n",
        "            raise ValueError(f\"Предмет {name} не найден\")\n",
        "\n",
        "    def __str__(self):\n",
        "        subjects = []\n",
        "        for subject, score in self.subjects.items():\n",
        "            if score['grade'] or score['test_score']:\n",
        "                subjects.append(subject)\n",
        "        return f\"Студент: {self.name}\\nПредметы: {', '.join(subjects)}\"\n",
        "\n",
        "    @classmethod\n",
        "    def load_subjects(cls, subjects_file):\n",
        "        with open(subjects_file, \"r\") as file:\n",
        "            for row in csv.reader(file):\n",
        "                for subject in row:\n",
        "                    cls.subjects[subject] = {\"grade\": [], \"test_score\": []}\n",
        "\n",
        "\n",
        "    def add_grade(self, subject, grade):\n",
        "        if self.__getattr__(subject):\n",
        "            if not isinstance(grade, int) or not (2 <= grade <= 5):\n",
        "                raise ValueError(\"Оценка должна быть целым числом от 2 до 5\")\n",
        "            else:\n",
        "                 self.subjects[subject]['grade'].append(grade)\n",
        "\n",
        "\n",
        "    def add_test_score(self, subject, test_score):\n",
        "        if self.__getattr__(subject):\n",
        "            if not isinstance(test_score, int) or not (0 <= test_score <= 100):\n",
        "                raise ValueError(\"Результат теста должен быть целым числом от 0 до 100\")\n",
        "            self.subjects[subject]['test_score'].append(test_score)\n",
        "\n",
        "    def get_average_test_score(self, subject):\n",
        "        if self.__getattr__(subject):\n",
        "            test_scores = self.subjects[subject][\"test_score\"]\n",
        "            return sum(test_scores) / len(test_scores)\n",
        "\n",
        "    def get_average_grade(self):\n",
        "        grades = []\n",
        "        for subject in self.subjects.values():\n",
        "            for grade in subject[\"grade\"]:\n",
        "                grades.append(grade)\n",
        "        return sum(grades) / len(grades)\n",
        "\n",
        "\n",
        "# Пример использования\n",
        "\n",
        "student = Student(\"Иван Иванов\", \"subjects.csv\")\n",
        "\n",
        "student.add_grade(\"Математика\", 5)\n",
        "student.add_grade(\"История\", 4)\n",
        "student.add_grade(\"Математика\", 3)\n",
        "student.add_test_score(\"Математика\", 80)\n",
        "student.add_test_score(\"Математика\", 70)\n",
        "student.add_test_score(\"Математика\", 75)\n",
        "\n",
        "\n",
        "average_grade = student.get_average_grade()\n",
        "print(f\"Средний балл: {average_grade}\")\n",
        "\n",
        "average_test_score = student.get_average_test_score(\"Математика\")\n",
        "print(f\"Средний результат по тестам по математике: {average_test_score}\")\n",
        "\n",
        "print(student)\n"
      ]
    }
  ]
}