{
  "nbformat": 4,
  "nbformat_minor": 0,
  "metadata": {
    "colab": {
      "provenance": [],
      "authorship_tag": "ABX9TyNCxqY/WX8jnl3R1HoWP0MG",
      "include_colab_link": true
    },
    "kernelspec": {
      "name": "python3",
      "display_name": "Python 3"
    },
    "language_info": {
      "name": "python"
    }
  },
  "cells": [
    {
      "cell_type": "markdown",
      "metadata": {
        "id": "view-in-github",
        "colab_type": "text"
      },
      "source": [
        "<a href=\"https://colab.research.google.com/github/InowaR/python_seminars/blob/main/lesson12/homework12.ipynb\" target=\"_parent\"><img src=\"https://colab.research.google.com/assets/colab-badge.svg\" alt=\"Open In Colab\"/></a>"
      ]
    },
    {
      "cell_type": "code",
      "execution_count": 68,
      "metadata": {
        "colab": {
          "base_uri": "https://localhost:8080/"
        },
        "id": "ZYGLm6qAZKve",
        "outputId": "54a87f63-cbc9-40a5-8cb9-f399db9ecb8c"
      },
      "outputs": [
        {
          "output_type": "stream",
          "name": "stdout",
          "text": [
            "Иван True\n",
            "Иванов True\n"
          ]
        }
      ],
      "source": [
        "import csv\n",
        "from csv import reader\n",
        "\n",
        "class Student:\n",
        "    subjects = {}\n",
        "\n",
        "    def __init__(self, name, subjects_file):\n",
        "        self.name = name\n",
        "        self.load_subjects(subjects_file)\n",
        "\n",
        "    def __setattr__(self, name, value):\n",
        "      for v in value.split(' '):\n",
        "        print(v, v[0].isupper())\n",
        "        # print(name, value)\n",
        "        # if name == 'name':\n",
        "        #   if not all(letter for letter in value.split(' ')):\n",
        "        #       raise ValueError(\"ФИО должно состоять только из букв и начинаться с заглавной буквы\")\n",
        "        # super().__setattr__(name, value)\n",
        "\n",
        "    # def __getattr__(self, name):\n",
        "    #     if name in self.subjects:\n",
        "    #         return self.subjects[name][name]\n",
        "    #     else:\n",
        "    #         raise AttributeError(f\"Атрибут {name} не найден\")\n",
        "\n",
        "    def __str__(self):\n",
        "        return f\"Студент: {self.name}\\nПредметы: {', '.join(self.subjects.keys())}\"\n",
        "\n",
        "    @classmethod\n",
        "    def load_subjects(cls, subjects_file):\n",
        "        with open(subjects_file, \"r\") as file:\n",
        "            reader = csv.reader(file)\n",
        "            for row in reader:\n",
        "                for s in row:\n",
        "                    cls.subjects[s] = None\n",
        "\n",
        "\n",
        "    def add_grade(self, subject, grade):\n",
        "        self.__setattr__(\"grade\", grade)\n",
        "\n",
        "    # def add_test_score(self, subject, test_score):\n",
        "    #     self.__setattr__(\"test_score\", test_score)\n",
        "\n",
        "    # def get_average_test_score(self, subject):\n",
        "    #     return self.subjects[subject][\"test_score\"]\n",
        "\n",
        "    # def get_average_grade(self):\n",
        "    #     grades = []\n",
        "    #     for subject in self.subjects.values():\n",
        "    #         grade = subject[\"grade\"]\n",
        "    #         if grade is not None:\n",
        "    #             grades.append(grade)\n",
        "    #     return sum(grades) / len(grades) if grades else None\n",
        "\n",
        "\n",
        "# Пример использования\n",
        "\n",
        "student = Student(\"Иван Иванов\", \"subjects.csv\")\n",
        "\n",
        "# student.add_grade(\"Математика\", 4)\n",
        "# student.add_test_score(\"Математика\", 85)\n",
        "\n",
        "# student.add_grade(\"История\", 5)\n",
        "# student.add_test_score(\"История\", 92)\n",
        "\n",
        "# average_grade = student.get_average_grade()\n",
        "# print(f\"Средний балл: {average_grade}\")\n",
        "\n",
        "# average_test_score = student.get_average_test_score(\"Математика\")\n",
        "# print(f\"Средний результат по тестам по математике: {average_test_score}\")\n",
        "\n",
        "# print(student)\n"
      ]
    }
  ]
}