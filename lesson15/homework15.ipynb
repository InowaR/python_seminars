{
  "nbformat": 4,
  "nbformat_minor": 0,
  "metadata": {
    "colab": {
      "provenance": [],
      "authorship_tag": "ABX9TyO4CO3GtR504PwSI8hoXHym",
      "include_colab_link": true
    },
    "kernelspec": {
      "name": "python3",
      "display_name": "Python 3"
    },
    "language_info": {
      "name": "python"
    }
  },
  "cells": [
    {
      "cell_type": "markdown",
      "metadata": {
        "id": "view-in-github",
        "colab_type": "text"
      },
      "source": [
        "<a href=\"https://colab.research.google.com/github/InowaR/python_seminars/blob/main/lesson15/homework15.ipynb\" target=\"_parent\"><img src=\"https://colab.research.google.com/assets/colab-badge.svg\" alt=\"Open In Colab\"/></a>"
      ]
    },
    {
      "cell_type": "code",
      "source": [
        "!mkdir ./sample_data/test_dir\n",
        "!touch ./sample_data/test_dir/1.txt"
      ],
      "metadata": {
        "id": "mUsLoMKki4fx"
      },
      "execution_count": null,
      "outputs": []
    },
    {
      "cell_type": "code",
      "source": [
        "code = \"\"\"\n",
        "import os\n",
        "from collections import namedtuple\n",
        "from pathlib import Path\n",
        "import logging\n",
        "import argparse\n",
        "\n",
        "\n",
        "logging.basicConfig(filename='dir_info.log', level=logging.INFO)\n",
        "\n",
        "FileEntry = namedtuple('FileEntry', ['name', 'ext', 'is_dir', 'parent_dir'])\n",
        "\n",
        "\n",
        "def get_dir_info(dir_path):\n",
        " dir_path = Path(dir_path)\n",
        " for entry in dir_path.iterdir():\n",
        "   is_dir = entry.is_dir()\n",
        "   name, ext = os.path.splitext(entry.name) if not is_dir else (entry.name, '')\n",
        "   parent_dir = str(dir_path)\n",
        "   logging.info(f'Found {\"file\" if not is_dir else \"directory\"}: {name} ({ext}) in {parent_dir}')\n",
        "   if is_dir:\n",
        "     get_dir_info(entry)\n",
        "\n",
        "\n",
        "if __name__ == '__main__':\n",
        "  parser = argparse.ArgumentParser(description='Сбор информации о содержимом директории')\n",
        "  parser.add_argument('-d', '--dir', help='Путь к директории', required=True)\n",
        "  args = parser.parse_args()\n",
        "  get_dir_info(args.dir)\n",
        "  print('Информация о содержимом директории записана в файл dir_info.log')\n",
        "\"\"\"\n",
        "\n",
        "with open('script.py', 'w') as f:\n",
        "  f.write(code)"
      ],
      "metadata": {
        "id": "oZF2gY5Sf7-Q"
      },
      "execution_count": 96,
      "outputs": []
    },
    {
      "cell_type": "code",
      "source": [
        "!python3 script.py -d ./sample_data/"
      ],
      "metadata": {
        "colab": {
          "base_uri": "https://localhost:8080/"
        },
        "id": "33c_NQTvZciO",
        "outputId": "09d6b670-8ffe-47e6-f265-1519e557ce73"
      },
      "execution_count": 99,
      "outputs": [
        {
          "output_type": "stream",
          "name": "stdout",
          "text": [
            "Информация о содержимом директории записана в файл dir_info.log\n"
          ]
        }
      ]
    },
    {
      "cell_type": "code",
      "source": [
        "!cat dir_info.log"
      ],
      "metadata": {
        "colab": {
          "base_uri": "https://localhost:8080/"
        },
        "id": "xF33vtEdjHtP",
        "outputId": "56e7d78c-0e8e-4272-a22d-5fe404f5091c"
      },
      "execution_count": 100,
      "outputs": [
        {
          "output_type": "stream",
          "name": "stdout",
          "text": [
            "INFO:root:Found file: README (.md) in sample_data\n",
            "INFO:root:Found file: anscombe (.json) in sample_data\n",
            "INFO:root:Found directory: test_dir () in sample_data\n",
            "INFO:root:Found file: untitled () in sample_data/test_dir\n",
            "INFO:root:Found file: 1 (.txt) in sample_data/test_dir\n",
            "INFO:root:Found directory: my_dir () in sample_data\n",
            "INFO:root:Found file: untitled1 () in sample_data/my_dir\n",
            "INFO:root:Found file: untitled () in sample_data/my_dir\n",
            "INFO:root:Found directory: .ipynb_checkpoints () in sample_data\n",
            "INFO:root:Found file: mnist_test (.csv) in sample_data\n",
            "INFO:root:Found file: mnist_train_small (.csv) in sample_data\n",
            "INFO:root:Found file: california_housing_test (.csv) in sample_data\n",
            "INFO:root:Found file: california_housing_train (.csv) in sample_data\n"
          ]
        }
      ]
    }
  ]
}