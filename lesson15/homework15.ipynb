{
  "nbformat": 4,
  "nbformat_minor": 0,
  "metadata": {
    "colab": {
      "provenance": [],
      "authorship_tag": "ABX9TyMZns/maIU1meHJiw6dxBD+",
      "include_colab_link": true
    },
    "kernelspec": {
      "name": "python3",
      "display_name": "Python 3"
    },
    "language_info": {
      "name": "python"
    }
  },
  "cells": [
    {
      "cell_type": "markdown",
      "metadata": {
        "id": "view-in-github",
        "colab_type": "text"
      },
      "source": [
        "<a href=\"https://colab.research.google.com/github/InowaR/python_seminars/blob/main/lesson15/homework15.ipynb\" target=\"_parent\"><img src=\"https://colab.research.google.com/assets/colab-badge.svg\" alt=\"Open In Colab\"/></a>"
      ]
    },
    {
      "cell_type": "code",
      "source": [
        "!mkdir ./sample_data/test_dir"
      ],
      "metadata": {
        "id": "mUsLoMKki4fx"
      },
      "execution_count": 62,
      "outputs": []
    },
    {
      "cell_type": "code",
      "source": [
        "code = \"\"\"\n",
        "import os\n",
        "from collections import namedtuple\n",
        "from pathlib import Path\n",
        "import logging\n",
        "import argparse\n",
        "\n",
        "\n",
        "logging.basicConfig(filename='dir_info.log', level=logging.INFO)\n",
        "\n",
        "FileEntry = namedtuple('FileEntry', ['name', 'ext', 'is_dir', 'parent_dir'])\n",
        "\n",
        "def get_dir_info(dir_path):\n",
        "  dir_path = Path(dir_path)\n",
        "  entries = []\n",
        "  for entry in os.listdir(dir_path):\n",
        "    full_path = dir_path / entry\n",
        "    is_dir = full_path.is_dir()\n",
        "    name, ext = os.path.splitext(entry) if not is_dir else (entry, '')\n",
        "    parent_dir = str(dir_path)\n",
        "    logging.info(f'Found {\"file\" if not is_dir else \"directory\"}: {name} ({ext}) in {parent_dir}')\n",
        "    entries.append(FileEntry(name, ext, is_dir, parent_dir))\n",
        "  return entries\n",
        "\n",
        "if __name__ == '__main__':\n",
        "  parser = argparse.ArgumentParser(description='Сбор информации о содержимом директории')\n",
        "  parser.add_argument('-d', '--dir', help='Путь к директории', required=True)\n",
        "  args = parser.parse_args()\n",
        "  dir_path = args.dir\n",
        "  entries = get_dir_info(dir_path)\n",
        "\n",
        "  with open('dir_info.txt', 'w') as f:\n",
        "    for entry in entries:\n",
        "      f.write(f'{entry.name}, {entry.ext}, {entry.is_dir}, {entry.parent_dir}\\\\n\\')\n",
        "\n",
        "  print('Информация о содержимом директории записана в файл dir_info.txt')\n",
        "\"\"\"\n",
        "\n",
        "with open('script.py', 'w') as f:\n",
        "  f.write(code)"
      ],
      "metadata": {
        "id": "oZF2gY5Sf7-Q"
      },
      "execution_count": 63,
      "outputs": []
    },
    {
      "cell_type": "code",
      "source": [
        "!python3 script.py -d ./sample_data/"
      ],
      "metadata": {
        "colab": {
          "base_uri": "https://localhost:8080/"
        },
        "id": "33c_NQTvZciO",
        "outputId": "f0fa20e2-ae35-4ebe-97e0-11232e7a123f"
      },
      "execution_count": 67,
      "outputs": [
        {
          "output_type": "stream",
          "name": "stdout",
          "text": [
            "Информация о содержимом директории записана в файл dir_info.txt\n"
          ]
        }
      ]
    },
    {
      "cell_type": "code",
      "source": [
        "!cat dir_info.log"
      ],
      "metadata": {
        "colab": {
          "base_uri": "https://localhost:8080/"
        },
        "id": "xF33vtEdjHtP",
        "outputId": "3db257f1-78fa-4f83-edc7-c68a6b1dd38e"
      },
      "execution_count": 68,
      "outputs": [
        {
          "output_type": "stream",
          "name": "stdout",
          "text": [
            "INFO:root:Found file: README (.md) in sample_data\n",
            "INFO:root:Found file: anscombe (.json) in sample_data\n",
            "INFO:root:Found directory: test_dir () in sample_data\n",
            "INFO:root:Found directory: my_dir () in sample_data\n",
            "INFO:root:Found directory: .ipynb_checkpoints () in sample_data\n",
            "INFO:root:Found file: mnist_test (.csv) in sample_data\n",
            "INFO:root:Found file: mnist_train_small (.csv) in sample_data\n",
            "INFO:root:Found file: california_housing_test (.csv) in sample_data\n",
            "INFO:root:Found file: california_housing_train (.csv) in sample_data\n"
          ]
        }
      ]
    }
  ]
}