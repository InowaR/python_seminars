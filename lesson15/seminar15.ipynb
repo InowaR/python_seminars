{
  "nbformat": 4,
  "nbformat_minor": 0,
  "metadata": {
    "colab": {
      "provenance": [],
      "authorship_tag": "ABX9TyNhr5K3gR7NJQ9oPpJKhXbm",
      "include_colab_link": true
    },
    "kernelspec": {
      "name": "python3",
      "display_name": "Python 3"
    },
    "language_info": {
      "name": "python"
    }
  },
  "cells": [
    {
      "cell_type": "markdown",
      "metadata": {
        "id": "view-in-github",
        "colab_type": "text"
      },
      "source": [
        "<a href=\"https://colab.research.google.com/github/InowaR/python_seminars/blob/main/lesson15/seminar15.ipynb\" target=\"_parent\"><img src=\"https://colab.research.google.com/assets/colab-badge.svg\" alt=\"Open In Colab\"/></a>"
      ]
    },
    {
      "cell_type": "code",
      "execution_count": 8,
      "metadata": {
        "colab": {
          "base_uri": "https://localhost:8080/",
          "height": 329
        },
        "id": "n06nefHR407s",
        "outputId": "ab5955c7-2009-4290-e323-991011d6ccb5"
      },
      "outputs": [
        {
          "output_type": "stream",
          "name": "stderr",
          "text": [
            "ERROR:root:Ошибка деления на ноль!\n",
            "Traceback (most recent call last):\n",
            "  File \"<ipython-input-8-901cb78f87b3>\", line 9, in division_by_zero\n",
            "    return a / b\n",
            "ZeroDivisionError: division by zero\n"
          ]
        },
        {
          "output_type": "stream",
          "name": "stdout",
          "text": [
            "Результат: None\n"
          ]
        },
        {
          "output_type": "error",
          "ename": "FileNotFoundError",
          "evalue": "[Errno 2] No such file or directory: 'errors.log'",
          "traceback": [
            "\u001b[0;31m---------------------------------------------------------------------------\u001b[0m",
            "\u001b[0;31mFileNotFoundError\u001b[0m                         Traceback (most recent call last)",
            "\u001b[0;32m<ipython-input-8-901cb78f87b3>\u001b[0m in \u001b[0;36m<cell line: 21>\u001b[0;34m()\u001b[0m\n\u001b[1;32m     19\u001b[0m \u001b[0;34m\u001b[0m\u001b[0m\n\u001b[1;32m     20\u001b[0m \u001b[0;31m# Проверка содержимого файла журнала\u001b[0m\u001b[0;34m\u001b[0m\u001b[0;34m\u001b[0m\u001b[0m\n\u001b[0;32m---> 21\u001b[0;31m \u001b[0;32mwith\u001b[0m \u001b[0mopen\u001b[0m\u001b[0;34m(\u001b[0m\u001b[0;34m'errors.log'\u001b[0m\u001b[0;34m,\u001b[0m \u001b[0;34m'r'\u001b[0m\u001b[0;34m)\u001b[0m \u001b[0;32mas\u001b[0m \u001b[0mf\u001b[0m\u001b[0;34m:\u001b[0m\u001b[0;34m\u001b[0m\u001b[0;34m\u001b[0m\u001b[0m\n\u001b[0m\u001b[1;32m     22\u001b[0m     \u001b[0mlog_content\u001b[0m \u001b[0;34m=\u001b[0m \u001b[0mf\u001b[0m\u001b[0;34m.\u001b[0m\u001b[0mread\u001b[0m\u001b[0;34m(\u001b[0m\u001b[0;34m)\u001b[0m\u001b[0;34m\u001b[0m\u001b[0;34m\u001b[0m\u001b[0m\n\u001b[1;32m     23\u001b[0m \u001b[0;34m\u001b[0m\u001b[0m\n",
            "\u001b[0;31mFileNotFoundError\u001b[0m: [Errno 2] No such file or directory: 'errors.log'"
          ]
        }
      ],
      "source": [
        "import logging\n",
        "\n",
        "# Настройка логирования\n",
        "logging.basicConfig(filename='errors.log', level=logging.ERROR, format='%(asctime)s %(message)s')\n",
        "\n",
        "# Функция, в которой происходит деление на ноль\n",
        "def division_by_zero(a, b):\n",
        "    try:\n",
        "        return a / b\n",
        "    except ZeroDivisionError:\n",
        "        logging.exception(\"Ошибка деления на ноль!\")\n",
        "\n",
        "# Вызов функции с делением на ноль\n",
        "try:\n",
        "    result = division_by_zero(10, 0)\n",
        "    print(f\"Результат: {result}\")\n",
        "except ZeroDivisionError:\n",
        "    print(\"Деление на ноль невозможно!\")\n",
        "\n",
        "# Проверка содержимого файла журнала\n",
        "with open('errors.log', 'r') as f:\n",
        "    log_content = f.read()\n",
        "\n",
        "print(f\"Содержимое файла журнала:\\n{log_content}\")\n"
      ]
    },
    {
      "cell_type": "code",
      "source": [
        "import logging\n",
        "\n",
        "logging.basicConfig(filename='error.log', level=logging.DEBUG)\n",
        "\n",
        "try:\n",
        "    result = 10 / 0\n",
        "except ZeroDivisionError:\n",
        "    logging.exception('Произошла ошибка деления на ноль')\n",
        "\n",
        "print('Программа завершена.')"
      ],
      "metadata": {
        "id": "ml82gON5_Piz"
      },
      "execution_count": null,
      "outputs": []
    },
    {
      "cell_type": "code",
      "source": [
        "!python script.py"
      ],
      "metadata": {
        "colab": {
          "base_uri": "https://localhost:8080/"
        },
        "id": "O64PXDiu7xca",
        "outputId": "f4fdb56c-9ca5-48e2-af03-b23f5c77003a"
      },
      "execution_count": 16,
      "outputs": [
        {
          "output_type": "stream",
          "name": "stdout",
          "text": [
            "9\n"
          ]
        }
      ]
    },
    {
      "cell_type": "code",
      "source": [
        "import logging\n",
        "from functools import wraps\n",
        "\n",
        "LOG_FORMAT = '%(asctime)s - %(message)s'\n",
        "\n",
        "logging.basicConfig(filename='decorat_logs.log', level=logging.DEBUG,\n",
        "                    format=LOG_FORMAT, encoding='utf-8')\n",
        "\n",
        "\n",
        "def log_decorator(func):\n",
        "    @wraps(func)\n",
        "    def wrapper(*args, **kwargs):\n",
        "        logging.info(f'Функция {func.__name__} которая вызывает аргументы: {args}'\n",
        "                     f'ключевые аргументы: {kwargs}')\n",
        "        result = func(*args, **kwargs)\n",
        "        logging.info(f'Функция: {func.__name__} возращает результат выполнения {result}')\n",
        "        return result\n",
        "\n",
        "    return wrapper\n",
        "\n",
        "\n",
        "@log_decorator\n",
        "def add(x, y):\n",
        "    return x + y\n",
        "\n",
        "\n",
        "print(add(4, y=5))"
      ],
      "metadata": {
        "colab": {
          "base_uri": "https://localhost:8080/"
        },
        "id": "hhaAMb5m77gq",
        "outputId": "4b61003c-ed84-4bac-fe89-9cd0f3676990"
      },
      "execution_count": 18,
      "outputs": [
        {
          "output_type": "stream",
          "name": "stdout",
          "text": [
            "9\n"
          ]
        }
      ]
    },
    {
      "cell_type": "code",
      "source": [
        "!python script.py"
      ],
      "metadata": {
        "colab": {
          "base_uri": "https://localhost:8080/"
        },
        "id": "tWVHv8O78_jW",
        "outputId": "43bb5fb0-d6ca-4b4b-a6f6-0ea91c8a7368"
      },
      "execution_count": 19,
      "outputs": [
        {
          "output_type": "stream",
          "name": "stdout",
          "text": [
            "9\n"
          ]
        }
      ]
    },
    {
      "cell_type": "code",
      "source": [
        "import datetime\n",
        "import logging\n",
        "\n",
        "def parse_date_text(text):\n",
        "    \"\"\"\n",
        "    Преобразует текст вида \"1-й четверг ноября\" в дату в текущем году.\n",
        "\n",
        "    Args:\n",
        "        text: Текст, представляющий дату.\n",
        "\n",
        "    Returns:\n",
        "        datetime.date object or None if the text is invalid.\n",
        "\n",
        "    \"\"\"\n",
        "    try:\n",
        "        # Разбиваем текст на части\n",
        "        parts = text.split()\n",
        "        if len(parts) != 3:\n",
        "            return None\n",
        "\n",
        "        # Получаем порядковый номер\n",
        "        ordinal = int(parts[0])\n",
        "        if ordinal < 1 or ordinal > 31:\n",
        "            return None\n",
        "\n",
        "        # Получаем день недели\n",
        "        weekday = parts[1].lower()\n",
        "        weekdays = [\"понедельник\", \"вторник\", \"среда\", \"четверг\", \"пятница\", \"суббота\", \"воскресенье\"]\n",
        "        if weekday not in weekdays:\n",
        "            return None\n",
        "\n",
        "        # Получаем месяц\n",
        "        month = parts[2].lower()\n",
        "        months = [\"январь\", \"февраль\", \"март\", \"апрель\", \"май\", \"июнь\", \"июль\", \"август\", \"сентябрь\", \"октябрь\", \"ноябрь\", \"декабрь\"]\n",
        "        if month not in months:\n",
        "            return None\n",
        "\n",
        "        # Получаем номер месяца\n",
        "        month_number = months.index(month) + 1\n",
        "\n",
        "        # Формируем дату\n",
        "        current_year = datetime.datetime.now().year\n",
        "        date = datetime.date(current_year, month_number, 1)\n",
        "\n",
        "        # Добавляем к дате необходимое количество дней\n",
        "        while date.weekday() != weekdays.index(weekday):\n",
        "            date += datetime.timedelta(days=1)\n",
        "\n",
        "        # Добавляем порядковый номер\n",
        "        date += datetime.timedelta(days=(ordinal - 1) * 7)\n",
        "\n",
        "        return date\n",
        "\n",
        "    except Exception as e:\n",
        "        logging.exception(f\"Ошибка при преобразовании текста '{text}' в дату: {e}\")\n",
        "        return None\n",
        "\n",
        "# Примеры использования\n",
        "date_text = \"1-й четверг ноября\"\n",
        "date = parse_date_text(date_text)\n",
        "if date is not None:\n",
        "    print(f\"Дата: {date}\")\n",
        "else:\n",
        "    print(f\"Неверный формат текста '{date_text}'\")\n",
        "\n",
        "date_text = \"3-я среда мая\"\n",
        "date = parse_date_text(date_text)\n",
        "if date is not None:\n",
        "    print(f\"Дата: {date}\")\n",
        "else:\n",
        "    print(f\"Неверный формат текста '{date_text}'\")\n",
        "\n",
        "date_text = \"32-й вторник февраля\"\n",
        "date = parse_date_text(date_text)\n",
        "if date is not None:\n",
        "    print(f\"Дата: {date}\")\n",
        "else:\n",
        "    print(f\"Неверный формат текста '{date_text}'\")\n"
      ],
      "metadata": {
        "colab": {
          "base_uri": "https://localhost:8080/"
        },
        "id": "0X4uv5iM9jhP",
        "outputId": "2b2cdf30-2607-4cb5-faef-b0c0fbfbad10"
      },
      "execution_count": 20,
      "outputs": [
        {
          "output_type": "stream",
          "name": "stderr",
          "text": [
            "ERROR:root:Ошибка при преобразовании текста '1-й четверг ноября' в дату: invalid literal for int() with base 10: '1-й'\n",
            "Traceback (most recent call last):\n",
            "  File \"<ipython-input-20-45df5171994b>\", line 22, in parse_date_text\n",
            "    ordinal = int(parts[0])\n",
            "ValueError: invalid literal for int() with base 10: '1-й'\n",
            "ERROR:root:Ошибка при преобразовании текста '3-я среда мая' в дату: invalid literal for int() with base 10: '3-я'\n",
            "Traceback (most recent call last):\n",
            "  File \"<ipython-input-20-45df5171994b>\", line 22, in parse_date_text\n",
            "    ordinal = int(parts[0])\n",
            "ValueError: invalid literal for int() with base 10: '3-я'\n",
            "ERROR:root:Ошибка при преобразовании текста '32-й вторник февраля' в дату: invalid literal for int() with base 10: '32-й'\n",
            "Traceback (most recent call last):\n",
            "  File \"<ipython-input-20-45df5171994b>\", line 22, in parse_date_text\n",
            "    ordinal = int(parts[0])\n",
            "ValueError: invalid literal for int() with base 10: '32-й'\n"
          ]
        },
        {
          "output_type": "stream",
          "name": "stdout",
          "text": [
            "Неверный формат текста '1-й четверг ноября'\n",
            "Неверный формат текста '3-я среда мая'\n",
            "Неверный формат текста '32-й вторник февраля'\n"
          ]
        }
      ]
    },
    {
      "cell_type": "code",
      "source": [
        "import datetime\n",
        "\n",
        "\n",
        "def _is_leap_year(year):\n",
        "    return bool(not year % 4 and year % 100 or not year % 400)\n",
        "\n",
        "\n",
        "def convert_string_to_date(text):\n",
        "    current_year = datetime.datetime.now().year\n",
        "    weekday_names = ['понедельник', 'вторник', 'среда', 'четверг',\n",
        "                     'пятница', 'суббота', 'воскресенье']\n",
        "    month_names = {\n",
        "        'янв': (31, 1), 'фев': (29 if _is_leap_year(current_year) else 28, 2),\n",
        "        'мар': (31, 3), 'апр': (30, 4), 'май': (31, 5), 'июн': (30, 6),\n",
        "        'июл': (31, 7), 'авг': (31, 8), 'сен': (30, 9),\n",
        "        'окт': (31, 10), 'ноя': (30, 11), 'дек': (31, 12)}\n",
        "    try:\n",
        "        parts = text.split()\n",
        "        day_number = int(''.join([i for i in parts[0] if i.isdigit()]))\n",
        "        day_name = parts[1]\n",
        "        month_name = parts[2]\n",
        "\n",
        "        first_day = datetime.datetime.strptime(f'1 {month_names[month_name[:3]][1]} {current_year}',\n",
        "                                               \"%d %m %Y\").weekday()\n",
        "    except:\n",
        "        raise ValueError\n",
        "    count = 0\n",
        "    weekday_names = weekday_names[first_day:] + weekday_names[:first_day]\n",
        "\n",
        "    while count < month_names[month_name[:3]][0]:\n",
        "        if day_name == weekday_names[count % 7]:\n",
        "            day_number -= 1\n",
        "            if not day_number:\n",
        "                break\n",
        "        count += 1\n",
        "    else:\n",
        "        raise ValueError\n",
        "\n",
        "    return count + 1"
      ],
      "metadata": {
        "id": "UJI1a8TRB1kt"
      },
      "execution_count": null,
      "outputs": []
    },
    {
      "cell_type": "code",
      "source": [
        "import datetime\n",
        "import argparse\n",
        "\n",
        "DAYS = ['понедельник', 'вторник', 'среда', 'четверг',\n",
        "        'пятница', 'суббота', 'воскресенье']\n",
        "\n",
        "parser = argparse.ArgumentParser(description='Find date')\n",
        "parser.add_argument('-date', metavar='date', type=str, nargs='*', help='Enter a number of weekday in month')\n",
        "parser.add_argument('-day', metavar='day', type=int, default=datetime.datetime.now().weekday(),\n",
        "                    help='Enter a number of weekday in month')\n",
        "parser.add_argument('-dow', metavar='dow', type=str, default=DAYS[datetime.datetime.now().weekday()],\n",
        "                    help='Enter a name of weekday')\n",
        "parser.add_argument('-mon', metavar='mon', type=str, default=datetime.datetime.now().month, help='Enter a month name')\n",
        "args = parser.parse_args()\n",
        "print(args.day, args.dow, args.mon)\n",
        "\n",
        "\n",
        "def _is_leap_year(year):\n",
        "    return bool(not year % 4 and year % 100 or not year % 400)\n",
        "\n",
        "\n",
        "def convert_string_to_date(day_number, day_name, month_name):\n",
        "    current_year = datetime.datetime.now().year\n",
        "    weekday_names = ['понедельник', 'вторник', 'среда', 'четверг',\n",
        "                     'пятница', 'суббота', 'воскресенье']\n",
        "\n",
        "    month_names = {\n",
        "        'янв': (31, 1), 'фев': (29 if _is_leap_year(current_year) else 28, 2),\n",
        "        'мар': (31, 3), 'апр': (30, 4), 'май': (31, 5), 'июн': (30, 6),\n",
        "        'июл': (31, 7), 'авг': (31, 8), 'сен': (30, 9),\n",
        "        'окт': (31, 10), 'ноя': (30, 11), 'дек': (31, 12)}\n",
        "\n",
        "    try:\n",
        "        first_day = datetime.datetime.strptime(f'1 {month_names[month_name[:3]][1]} {current_year}',\n",
        "                                               \"%d %m %Y\").weekday()\n",
        "    except:\n",
        "        raise ValueError\n",
        "    count = 0\n",
        "    weekday_names = weekday_names[first_day:] + weekday_names[:first_day]\n",
        "    current_month = month_names[[month for month in month_names if month_name[:3] in month][0]]\n",
        "\n",
        "\n",
        "    while count < month_names[month_name[:3]][0]:\n",
        "        if day_name == weekday_names[count % 7]:\n",
        "            day_number -= 1\n",
        "            if not day_number:\n",
        "                break\n",
        "        count += 1\n",
        "    else:\n",
        "        raise ValueError\n",
        "    print(count+1)\n",
        "    return count + 1\n",
        "\n",
        "\n",
        "convert_string_to_date(args.day, args.dow, args.mon)"
      ],
      "metadata": {
        "id": "PHEJ0F23SDL1"
      },
      "execution_count": null,
      "outputs": []
    }
  ]
}