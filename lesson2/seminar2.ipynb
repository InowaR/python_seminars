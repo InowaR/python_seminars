{
  "nbformat": 4,
  "nbformat_minor": 0,
  "metadata": {
    "colab": {
      "provenance": [],
      "authorship_tag": "ABX9TyPbOy8zdX2JiRg1kKZkq+3a",
      "include_colab_link": true
    },
    "kernelspec": {
      "name": "python3",
      "display_name": "Python 3"
    },
    "language_info": {
      "name": "python"
    }
  },
  "cells": [
    {
      "cell_type": "markdown",
      "metadata": {
        "id": "view-in-github",
        "colab_type": "text"
      },
      "source": [
        "<a href=\"https://colab.research.google.com/github/InowaR/python_seminars/blob/main/lesson2/seminar2.ipynb\" target=\"_parent\"><img src=\"https://colab.research.google.com/assets/colab-badge.svg\" alt=\"Open In Colab\"/></a>"
      ]
    },
    {
      "cell_type": "code",
      "execution_count": 37,
      "metadata": {
        "colab": {
          "base_uri": "https://localhost:8080/"
        },
        "id": "oCC3mmqq4yMn",
        "outputId": "802367af-7969-49f4-b6b9-d630284ff908"
      },
      "outputs": [
        {
          "output_type": "stream",
          "name": "stdout",
          "text": [
            "<class 'int'>\n",
            "<class 'float'>\n",
            "<class 'str'>\n",
            "<class 'list'>\n",
            "<class 'float'>\n",
            "<class 'float'>\n",
            "True\n"
          ]
        }
      ],
      "source": [
        "import decimal\n",
        "from decimal import Decimal\n",
        "import math\n",
        "\n",
        "\n",
        "def task1():\n",
        "  a1 = 3\n",
        "  a2 = 3.2\n",
        "  a3 = \"hello\"\n",
        "  a4 = [1,2,3,4,5]\n",
        "  a5 = a1 * a2\n",
        "  a6 = a1 / 5\n",
        "  print(type(a1))\n",
        "  print(type(a2))\n",
        "  print(type(a3))\n",
        "  print(type(a4))\n",
        "  print(type(a5))\n",
        "  print(type(a6))\n",
        "  a = 5\n",
        "  b = 5\n",
        "  print(a is b)\n",
        "\n",
        "# task1()\n",
        "\n",
        "\n",
        "def task2():\n",
        "  data = [1, 2.2, \"str\", True, 1]\n",
        "  for i in range(len(data)):\n",
        "    print(f'index = {i+1}, value = {data[i]}, id = {id(data[i])}, sizeof = {data[i].__sizeof__()}, hash = {hash(data[i])}')\n",
        "    if isinstance(data[i], int):\n",
        "      print(f'{data[i]} - целое число')\n",
        "    if isinstance(data[i], str):\n",
        "      print(f'{data[i]} - строка')\n",
        "\n",
        "# task2()\n",
        "\n",
        "def task3(num: int, base: int):\n",
        "  result = ''\n",
        "  while num > 0:\n",
        "    result = str(num % base) + result\n",
        "    num //= base\n",
        "  return result\n",
        "\n",
        "\n",
        "# print(task3(16, 2))\n",
        "# print(bin(16))\n",
        "# print(task3(16, 8))\n",
        "# print(oct(16))\n",
        "\n",
        "\n",
        "def task4():\n",
        "  decimal.getcontext().prec = 100\n",
        "  print(decimal.getcontext().prec) # точность вычислений\n",
        "  PI = Decimal(math.pi)\n",
        "  d = Decimal(3)\n",
        "  print(f'L = {d * PI}')\n",
        "\n",
        "# task4()\n",
        "\n",
        "\n",
        "# задание1 доп\n",
        "\n",
        "# ✔ Напишите программу, которая решает\n",
        "# квадратные уравнения даже если\n",
        "# дискриминант отрицательный.\n",
        "# ✔ Используйте комплексные числа\n",
        "# для извлечения квадратного корня.\n",
        "\n",
        "\n",
        "# задание2 доп\n",
        "\n",
        "# Напишите программу банкомат.\n",
        "# ✔ Начальная сумма равна нулю\n",
        "# ✔ Допустимые действия: пополнить, снять, выйти\n",
        "# ✔ Сумма пополнения и снятия кратны 50 у.е.\n",
        "# ✔ Процент за снятие — 1.5% от суммы снятия, но не менее 30 и не более 600 у.е.\n",
        "# ✔ После каждой третей операции пополнения или снятия начисляются проценты - 3%\n",
        "# ✔ Нельзя снять больше, чем на счёте\n",
        "# ✔ При превышении суммы в 5 млн, вычитать налог на богатство 10% перед каждой\n",
        "# операцией, даже ошибочной\n",
        "# ✔ Любое действие выводит сумму денег"
      ]
    }
  ]
}