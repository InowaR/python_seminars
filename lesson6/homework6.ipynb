{
  "nbformat": 4,
  "nbformat_minor": 0,
  "metadata": {
    "colab": {
      "provenance": [],
      "authorship_tag": "ABX9TyN2i/pWh6iieBF1cJmDiw7+",
      "include_colab_link": true
    },
    "kernelspec": {
      "name": "python3",
      "display_name": "Python 3"
    },
    "language_info": {
      "name": "python"
    }
  },
  "cells": [
    {
      "cell_type": "markdown",
      "metadata": {
        "id": "view-in-github",
        "colab_type": "text"
      },
      "source": [
        "<a href=\"https://colab.research.google.com/github/InowaR/python_seminars/blob/main/lesson6/homework6.ipynb\" target=\"_parent\"><img src=\"https://colab.research.google.com/assets/colab-badge.svg\" alt=\"Open In Colab\"/></a>"
      ]
    },
    {
      "cell_type": "code",
      "execution_count": 3,
      "metadata": {
        "colab": {
          "base_uri": "https://localhost:8080/"
        },
        "id": "igfW_jTYnQ82",
        "outputId": "42c4cb39-0a99-48d3-e467-fb803865478f"
      },
      "outputs": [
        {
          "output_type": "stream",
          "name": "stdout",
          "text": [
            "[(5, 4), (6, 7), (4, 4), (6, 6), (8, 6), (5, 4), (6, 3), (6, 1)]\n",
            "[(5, 8), (2, 7), (1, 5), (4, 4), (7, 8), (8, 7), (6, 8), (2, 5)]\n",
            "[(3, 2), (7, 1), (7, 6), (2, 1), (1, 8), (7, 1), (8, 5), (1, 6)]\n",
            "[(6, 8), (6, 2), (7, 3), (2, 1), (8, 1), (8, 5), (7, 8), (1, 4)]\n"
          ]
        }
      ],
      "source": [
        "# Вы работаете над разработкой программы для проверки корректности даты, введенной пользователем.\n",
        "# На вход будет подаваться дата в формате \"день.месяц.год\".\n",
        "# Ваша задача - создать программу, которая проверяет, является ли введенная дата корректной или нет.\n",
        "\n",
        "\n",
        "def is_date_valid(date_to_prove):\n",
        "    day = int(date_to_prove.split(\".\")[0])\n",
        "    month = int(date_to_prove.split(\".\")[1])\n",
        "    year = int(date_to_prove.split(\".\")[2])\n",
        "    if len(str(year)) == 2:\n",
        "        if year < 70 or year > 99:\n",
        "            return False\n",
        "    else:\n",
        "        if year < 1000 or year > 9999:\n",
        "            return False\n",
        "    if month < 1 or month > 12:\n",
        "        return False\n",
        "    if month == 1 or month == 3 or month == 5 or month == 7 or month == 8 or month == 10 or month == 12:\n",
        "        if day < 1 or day > 31:\n",
        "            return False\n",
        "    elif month == 4 or month == 6 or month == 9 or month == 11:\n",
        "        if day < 1 or day > 30:\n",
        "            return False\n",
        "    elif month == 2:\n",
        "        if year % 4 == 0:\n",
        "            if day < 1 or day > 29:\n",
        "                return False\n",
        "        else:\n",
        "            if day < 1 or day > 28:\n",
        "                return False\n",
        "    return True\n",
        "\n",
        "# date_to_prove = \"15.4.2023\"\n",
        "# print(is_date_valid(date_to_prove))\n",
        "\n",
        "\n",
        "# Известно, что на доске 8×8 можно расставить 8 ферзей так, чтобы они не били друг друга.\n",
        "# Вам дана расстановка 8 ферзей на доске, определите, есть ли среди них пара бьющих друг друга.\n",
        "# Программа получает на вход восемь пар чисел, каждое число от 1 до 8 - координаты 8 ферзей.\n",
        "# Если ферзи не бьют друг друга верните истину, а если бьют - ложь. Не забудьте напечатать результат.\n",
        "\n",
        "\n",
        "def is_attacking(q1: tuple, q2: tuple):\n",
        "    x1, y1 = map(int, q1)\n",
        "    x2, y2 = map(int, q2)\n",
        "    if (x1 == x2) or (y1 == y2) or (abs(x1 - x2) == abs(y1 - y2)):\n",
        "        return True\n",
        "    return False\n",
        "\n",
        "\n",
        "def check_queens(queens: list):\n",
        "    for i in range(len(queens)-1):\n",
        "        for j in range(i+1, len(queens)):\n",
        "            if is_attacking(queens[i], queens[j]):\n",
        "              return False\n",
        "    return True\n",
        "\n",
        "\n",
        "# Используйте генератор случайных чисел для случайной расстановки ферзей в задаче выше.\n",
        "# Проверяйте различный случайные варианты и выведите 4 успешных расстановки.\n",
        "# Под \"успешной расстановкой ферзей\" в данном контексте подразумевается такая расстановка ферзей на шахматной доске,\n",
        "# в которой ни один ферзь не бьет другого. Другими словами, ферзи размещены таким образом, что они не находятся на одной вертикали,\n",
        "# горизонтали или диагонали.\n",
        "# Список из 4х комбинаций координат сохраните в board_list. Дополнительно печатать его не надо.\n",
        "\n",
        "import random\n",
        "\n",
        "def is_attacking(q1: tuple, q2: tuple):\n",
        "    x1, y1 = map(int, q1)\n",
        "    x2, y2 = map(int, q2)\n",
        "    if (x1 == x2) or (y1 == y2) or (abs(x1 - x2) == abs(y1 - y2)):\n",
        "        return True\n",
        "    return False\n",
        "\n",
        "\n",
        "def check_queens(queens: list):\n",
        "    for i in range(len(queens)-1):\n",
        "        for j in range(i+1, len(queens)):\n",
        "            if is_attacking(queens[i], queens[j]):\n",
        "              return False\n",
        "    return True\n",
        "\n",
        "\n",
        "def generate_boards():\n",
        "    board_list = []\n",
        "    for _ in range(4):\n",
        "        queens = []\n",
        "        for i in range(8):\n",
        "            x = random.randint(1, 8)\n",
        "            y = random.randint(1, 8)\n",
        "            queens.append((x, y))\n",
        "        if not check_queens(queens):\n",
        "            board_list.append(queens)\n",
        "    return board_list\n",
        "\n",
        "\n",
        "boards = generate_boards()\n",
        "for b in boards:\n",
        "  print(b)"
      ]
    }
  ]
}