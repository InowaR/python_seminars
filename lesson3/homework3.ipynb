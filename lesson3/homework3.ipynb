{
  "nbformat": 4,
  "nbformat_minor": 0,
  "metadata": {
    "colab": {
      "provenance": [],
      "authorship_tag": "ABX9TyPt+cIbnyUaZ6M+aVWvygBX",
      "include_colab_link": true
    },
    "kernelspec": {
      "name": "python3",
      "display_name": "Python 3"
    },
    "language_info": {
      "name": "python"
    }
  },
  "cells": [
    {
      "cell_type": "markdown",
      "metadata": {
        "id": "view-in-github",
        "colab_type": "text"
      },
      "source": [
        "<a href=\"https://colab.research.google.com/github/InowaR/python_seminars/blob/main/lesson3/homework3.ipynb\" target=\"_parent\"><img src=\"https://colab.research.google.com/assets/colab-badge.svg\" alt=\"Open In Colab\"/></a>"
      ]
    },
    {
      "cell_type": "code",
      "execution_count": 46,
      "metadata": {
        "colab": {
          "base_uri": "https://localhost:8080/"
        },
        "id": "u0Ohdva4e4Ao",
        "outputId": "2f97818e-c034-48f9-92b0-bc249bc4fd04"
      },
      "outputs": [
        {
          "output_type": "stream",
          "name": "stdout",
          "text": [
            "[1, 2, 3]\n"
          ]
        }
      ],
      "source": [
        "def get_backpack(items, max_weight):\n",
        "  backpack = {}\n",
        "  for item, weight in items.items():\n",
        "    if weight <= max_weight:\n",
        "      backpack[item] = weight\n",
        "      max_weight -= weight\n",
        "    if max_weight <= 0:\n",
        "      break\n",
        "  return backpack\n",
        "\n",
        "\n",
        "items = {\n",
        "  \"ключи\": 0.3,\n",
        "  \"кошелек\": 0.2,\n",
        "  \"телефон\": 0.5,\n",
        "  \"зажигалка\": 0.1\n",
        "}\n",
        "max_weight = 1.0\n",
        "\n",
        "backpack = get_backpack(items, max_weight)\n",
        "\n",
        "# print(backpack)\n",
        "\n",
        "import re, collections\n",
        "def get_most_common_words(text, top_n=10):\n",
        "  words = re.split(r\"\\W+\", text.lower())[:-1]\n",
        "  words = [word for word in words if not word.isdigit()]\n",
        "  word_counts = collections.Counter(words)\n",
        "  sorted_word_counts = word_counts.most_common(top_n)\n",
        "  return [word for word in sorted_word_counts]\n",
        "\n",
        "\n",
        "text = \"Hello world. Hello Py'thon. Hello again.\"\n",
        "most_common_words = get_most_common_words(text)\n",
        "# print(most_common_words)\n",
        "\n",
        "def get_duplicates(lst):\n",
        "  element_counts = {}\n",
        "  for element in lst:\n",
        "    if element in element_counts:\n",
        "      element_counts[element] += 1\n",
        "    else:\n",
        "      element_counts[element] = 1\n",
        "  duplicates = [element for element, count in element_counts.items() if count > 1]\n",
        "  return duplicates\n",
        "\n",
        "lst = [1, 1, 2, 2, 3, 3, 4, 5]\n",
        "duplicates = get_duplicates(lst)\n",
        "# print(duplicates)"
      ]
    }
  ]
}