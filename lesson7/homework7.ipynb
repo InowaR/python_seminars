{
  "nbformat": 4,
  "nbformat_minor": 0,
  "metadata": {
    "colab": {
      "provenance": [],
      "authorship_tag": "ABX9TyMNxe6ovLDIByPg722qvadb",
      "include_colab_link": true
    },
    "kernelspec": {
      "name": "python3",
      "display_name": "Python 3"
    },
    "language_info": {
      "name": "python"
    }
  },
  "cells": [
    {
      "cell_type": "markdown",
      "metadata": {
        "id": "view-in-github",
        "colab_type": "text"
      },
      "source": [
        "<a href=\"https://colab.research.google.com/github/InowaR/python_seminars/blob/main/lesson7/homework7.ipynb\" target=\"_parent\"><img src=\"https://colab.research.google.com/assets/colab-badge.svg\" alt=\"Open In Colab\"/></a>"
      ]
    },
    {
      "cell_type": "code",
      "execution_count": 38,
      "metadata": {
        "id": "7zEWRezDwOsr",
        "colab": {
          "base_uri": "https://localhost:8080/",
          "height": 35
        },
        "outputId": "92ab9ada-7a4d-487e-de29-317c0d6d3150"
      },
      "outputs": [
        {
          "output_type": "execute_result",
          "data": {
            "text/plain": [
              "'/content/__init__.py'"
            ],
            "application/vnd.google.colaboratory.intrinsic+json": {
              "type": "string"
            }
          },
          "metadata": {},
          "execution_count": 38
        }
      ],
      "source": [
        "import os\n",
        "import shutil\n",
        "\n",
        "# Создать тестовую папку\n",
        "folder_name = \"test_folder\"\n",
        "folder_path = os.path.join(os.getcwd(), folder_name)\n",
        "if os.path.exists(folder_path):\n",
        "    shutil.rmtree(folder_path)\n",
        "os.makedirs(folder_path)\n",
        "\n",
        "\n",
        "# Заполнить тестовую папку\n",
        "for i in range(10):\n",
        "    file_name = f\"test{i}.txt\"\n",
        "    file_path = os.path.join(folder_path, file_name)\n",
        "    with open(file_path, \"w\") as file:\n",
        "        file.write(\"This is a test file.\\n\")\n",
        "        file.close()\n",
        "\n",
        "file_name = \"test.doc\"\n",
        "file_path = os.path.join(folder_path, file_name)\n",
        "\n",
        "with open(file_path, \"w\") as file:\n",
        "    file.write(\"This is a test file.\\n\")\n",
        "    file.close()\n",
        "\n",
        "\n",
        "# Напишите функцию группового переименования файлов в папке test_folder под названием rename_files. Она должна:\n",
        "\n",
        "# a. принимать параметр желаемое конечное имя файлов. При переименовании в конце имени добавляется порядковый номер.\n",
        "# b. принимать параметр количество цифр в порядковом номере.\n",
        "# c. принимать параметр расширение исходного файла. Переименование должно работать только для этих файлов внутри каталога.\n",
        "# d. принимать параметр расширение конечного файла.\n",
        "# e. принимать диапазон сохраняемого оригинального имени. Например для диапазона [3, 6] берутся буквы с 3 по 6 из исходного имени файла. К ним прибавляется желаемое конечное имя, если оно передано. Далее счётчик файлов и расширение.\n",
        "# f. Папка test_folder доступна из текущей директории\n",
        "\n",
        "\n",
        "\n",
        "def rename_files(desired_name, num_digits, source_ext, target_ext, start=0, end=0):\n",
        "    files = os.listdir(\"test_folder\")\n",
        "    for file in files:\n",
        "        if file.endswith(source_ext):\n",
        "            chars = ''\n",
        "            for char in file:\n",
        "                if char.isdigit():\n",
        "                    chars += char\n",
        "            name = file[start:end]\n",
        "            num = \"{0:0000\" + f\"{num_digits}\" + \"d}\"\n",
        "            if desired_name == \"new_file_\":\n",
        "                new_name = name + desired_name + num.format(int(chars) + 1) + \".\" + target_ext\n",
        "            else:\n",
        "                new_name = name + desired_name + num.format(int(chars)) + \".\" + target_ext\n",
        "            os.rename(f\"test_folder/{file}\", f\"test_folder/{new_name}\")\n",
        "\n",
        "\n",
        "rename_files(desired_name=\"new_file_\", num_digits=3, source_ext=\"txt\", target_ext=\"doc\")\n",
        "\n",
        "\n",
        "# Создайте файл __init__.py и запишите в него функцию rename_files\n",
        "\n",
        "\n",
        "def create_init_file():\n",
        "    package_dir = os.path.join(os.getcwd())\n",
        "    if not os.path.exists(package_dir):\n",
        "        os.makedirs(package_dir)\n",
        "    init_file_path = os.path.join(package_dir, '__init__.py')\n",
        "    with open(init_file_path, 'w') as f:\n",
        "        f.write('__all__ = [\"def rename_files\"]')\n",
        "    return init_file_path\n",
        "\n",
        "create_init_file()"
      ]
    }
  ]
}