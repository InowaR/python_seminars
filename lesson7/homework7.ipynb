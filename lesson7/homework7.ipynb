{
  "nbformat": 4,
  "nbformat_minor": 0,
  "metadata": {
    "colab": {
      "provenance": [],
      "authorship_tag": "ABX9TyOJXPRYKLsdcrmSB8L1GuBg",
      "include_colab_link": true
    },
    "kernelspec": {
      "name": "python3",
      "display_name": "Python 3"
    },
    "language_info": {
      "name": "python"
    }
  },
  "cells": [
    {
      "cell_type": "markdown",
      "metadata": {
        "id": "view-in-github",
        "colab_type": "text"
      },
      "source": [
        "<a href=\"https://colab.research.google.com/github/InowaR/python_seminars/blob/main/lesson7/homework7.ipynb\" target=\"_parent\"><img src=\"https://colab.research.google.com/assets/colab-badge.svg\" alt=\"Open In Colab\"/></a>"
      ]
    },
    {
      "cell_type": "code",
      "execution_count": 27,
      "metadata": {
        "id": "7zEWRezDwOsr"
      },
      "outputs": [],
      "source": [
        "import os\n",
        "import shutil\n",
        "\n",
        "# Создать тестовую папку\n",
        "folder_name = \"test_folder\"\n",
        "folder_path = os.path.join(os.getcwd(), folder_name)\n",
        "if os.path.exists(folder_path):\n",
        "    shutil.rmtree(folder_path)\n",
        "os.makedirs(folder_path)\n",
        "\n",
        "\n",
        "# Заполнить тестовую папку\n",
        "for i in range(11):\n",
        "\n",
        "    file_name = f\"test{i}.txt\"\n",
        "    file_path = os.path.join(folder_path, file_name)\n",
        "\n",
        "    with open(file_path, \"w\") as file:\n",
        "        file.write(\"This is a test file.\\n\")\n",
        "        file.close()\n",
        "\n",
        "file_name = \"test.doc\"\n",
        "file_path = os.path.join(folder_path, file_name)\n",
        "\n",
        "with open(file_path, \"w\") as file:\n",
        "    file.write(\"This is a test file.\\n\")\n",
        "    file.close()\n",
        "\n",
        "\n",
        "\n",
        "def rename_files(desired_name=\"\", num_digits=3, source_ext=\"\", target_ext=\"\", range_start=0, range_end=None):\n",
        "    files = os.listdir(\"test_folder\")\n",
        "    for file in files:\n",
        "        if file.endswith(source_ext):\n",
        "            orig_name = file[:-len(source_ext)]\n",
        "            if range_end is None:\n",
        "                name = orig_name\n",
        "            else:\n",
        "                name = orig_name[range_start:range_end]\n",
        "            new_name = desired_name + \"{0:004d}\".format(int(name[4:-1])) + \".\" + target_ext\n",
        "            if file != \"test.txt\":\n",
        "                os.rename(f\"test_folder/{file}\", f\"test_folder/{new_name}\")\n",
        "\n",
        "rename_files(desired_name=\"new_file_\", num_digits=3, source_ext=\"txt\", target_ext=\"doc\")"
      ]
    }
  ]
}