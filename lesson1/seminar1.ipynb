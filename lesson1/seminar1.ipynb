{
  "nbformat": 4,
  "nbformat_minor": 0,
  "metadata": {
    "colab": {
      "provenance": [],
      "authorship_tag": "ABX9TyOuIj/bGIe3k9by6qA/lFgD",
      "include_colab_link": true
    },
    "kernelspec": {
      "name": "python3",
      "display_name": "Python 3"
    },
    "language_info": {
      "name": "python"
    }
  },
  "cells": [
    {
      "cell_type": "markdown",
      "metadata": {
        "id": "view-in-github",
        "colab_type": "text"
      },
      "source": [
        "<a href=\"https://colab.research.google.com/github/InowaR/python_seminars/blob/main/lesson1/seminar1.ipynb\" target=\"_parent\"><img src=\"https://colab.research.google.com/assets/colab-badge.svg\" alt=\"Open In Colab\"/></a>"
      ]
    },
    {
      "cell_type": "code",
      "execution_count": 28,
      "metadata": {
        "colab": {
          "base_uri": "https://localhost:8080/"
        },
        "id": "tWMKZMR5oECE",
        "outputId": "085f4b24-79e0-47cb-aaea-ac1f992c1726"
      },
      "outputs": [
        {
          "output_type": "stream",
          "name": "stdout",
          "text": [
            "    *\n",
            "   ***\n",
            "  *****\n",
            " *******\n",
            "*********\n",
            "2 x 2 = 4\t\t3 x 2 = 6\t\t4 x 2 = 8\t\t5 x 2 = 10\t\t\n",
            "2 x 3 = 6\t\t3 x 3 = 9\t\t4 x 3 = 12\t\t5 x 3 = 15\t\t\n",
            "2 x 4 = 8\t\t3 x 4 = 12\t\t4 x 4 = 16\t\t5 x 4 = 20\t\t\n",
            "2 x 5 = 10\t\t3 x 5 = 15\t\t4 x 5 = 20\t\t5 x 5 = 25\t\t\n",
            "2 x 6 = 12\t\t3 x 6 = 18\t\t4 x 6 = 24\t\t5 x 6 = 30\t\t\n",
            "2 x 7 = 14\t\t3 x 7 = 21\t\t4 x 7 = 28\t\t5 x 7 = 35\t\t\n",
            "2 x 8 = 16\t\t3 x 8 = 24\t\t4 x 8 = 32\t\t5 x 8 = 40\t\t\n",
            "2 x 9 = 18\t\t3 x 9 = 27\t\t4 x 9 = 36\t\t5 x 9 = 45\t\t\n",
            "\n",
            "6 x 2 = 12\t\t7 x 2 = 14\t\t8 x 2 = 16\t\t9 x 2 = 18\t\t\n",
            "6 x 3 = 18\t\t7 x 3 = 21\t\t8 x 3 = 24\t\t9 x 3 = 27\t\t\n",
            "6 x 4 = 24\t\t7 x 4 = 28\t\t8 x 4 = 32\t\t9 x 4 = 36\t\t\n",
            "6 x 5 = 30\t\t7 x 5 = 35\t\t8 x 5 = 40\t\t9 x 5 = 45\t\t\n",
            "6 x 6 = 36\t\t7 x 6 = 42\t\t8 x 6 = 48\t\t9 x 6 = 54\t\t\n",
            "6 x 7 = 42\t\t7 x 7 = 49\t\t8 x 7 = 56\t\t9 x 7 = 63\t\t\n",
            "6 x 8 = 48\t\t7 x 8 = 56\t\t8 x 8 = 64\t\t9 x 8 = 72\t\t\n",
            "6 x 9 = 54\t\t7 x 9 = 63\t\t8 x 9 = 72\t\t9 x 9 = 81\t\t\n"
          ]
        }
      ],
      "source": [
        "def tree(rows):\n",
        "  for i in range(1, rows + 1):\n",
        "      spaces = \" \" * (rows - i)\n",
        "      stars = \"*\" * (2*i - 1)\n",
        "      print(f\"{spaces}{stars}\")\n",
        "\n",
        "tree(5)\n",
        "\n",
        "def table():\n",
        "  for i in range(2, 10):\n",
        "      for j in range(2, 6):\n",
        "          print(f\"{j} x {i} = {j * i}\", end=\"\\t\\t\")\n",
        "      print()\n",
        "  print()\n",
        "  for i in range(2, 10):\n",
        "      for j in range(6, 10):\n",
        "          print(f\"{j} x {i} = {j * i}\", end=\"\\t\\t\")\n",
        "      print()\n",
        "\n",
        "table()"
      ]
    }
  ]
}