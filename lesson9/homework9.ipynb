{
  "nbformat": 4,
  "nbformat_minor": 0,
  "metadata": {
    "colab": {
      "provenance": [],
      "authorship_tag": "ABX9TyMUeXR1xVVnTBmMKNTsM1sl",
      "include_colab_link": true
    },
    "kernelspec": {
      "name": "python3",
      "display_name": "Python 3"
    },
    "language_info": {
      "name": "python"
    }
  },
  "cells": [
    {
      "cell_type": "markdown",
      "metadata": {
        "id": "view-in-github",
        "colab_type": "text"
      },
      "source": [
        "<a href=\"https://colab.research.google.com/github/InowaR/python_seminars/blob/main/lesson9/homework9.ipynb\" target=\"_parent\"><img src=\"https://colab.research.google.com/assets/colab-badge.svg\" alt=\"Open In Colab\"/></a>"
      ]
    },
    {
      "cell_type": "code",
      "execution_count": 3,
      "metadata": {
        "colab": {
          "base_uri": "https://localhost:8080/"
        },
        "id": "LjynYuVhyfTL",
        "outputId": "1b72f416-e5ff-44ed-dae8-e265c8564b06"
      },
      "outputs": [
        {
          "output_type": "stream",
          "name": "stdout",
          "text": [
            "None\n"
          ]
        }
      ],
      "source": [
        "import random\n",
        "import json\n",
        "\n",
        "#task1\n",
        "\n",
        "def generate_csv_file(file_name, rows):\n",
        "  with open(file_name, 'w') as f:\n",
        "    for _ in range(rows):\n",
        "      f.write(','.join([str(random.randint(100, 1000)) for _ in range(3)]) + '\\n')\n",
        "\n",
        "\n",
        "def save_to_json(func):\n",
        "  def wrapper(*args):\n",
        "    data = []\n",
        "    with open(args[0], 'r') as f:\n",
        "      for line in f:\n",
        "        a, b, c = map(int, line.split(','))\n",
        "        result = func(a, b, c)\n",
        "        data.append({\"parameters\": [a, b, c], \"result\": result})\n",
        "    with open('results.json', 'w') as f:\n",
        "      json.dump(data, f)\n",
        "  return wrapper\n",
        "\n",
        "@save_to_json\n",
        "def find_roots(a, b, c):\n",
        "  d = b**2 - 4*a*c\n",
        "  if d < 0:\n",
        "    return None\n",
        "  elif d == 0:\n",
        "    return -b / (2*a)\n",
        "  else:\n",
        "    return (-b + d**0.5) / (2*a), (-b - d**0.5) / (2*a)\n",
        "\n",
        "\n",
        "#task2\n",
        "\n",
        "import os\n",
        "\n",
        "with open(os.path.join('.', '__init__.py'), 'w') as f:\n",
        "    f.write('__all__ = [def save_to_json, def find_roots, def generate_csv_file]')"
      ]
    }
  ]
}