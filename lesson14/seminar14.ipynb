{
  "nbformat": 4,
  "nbformat_minor": 0,
  "metadata": {
    "colab": {
      "provenance": [],
      "authorship_tag": "ABX9TyPCN9taE6mtBCCftxFSwQEM",
      "include_colab_link": true
    },
    "kernelspec": {
      "name": "python3",
      "display_name": "Python 3"
    },
    "language_info": {
      "name": "python"
    }
  },
  "cells": [
    {
      "cell_type": "markdown",
      "metadata": {
        "id": "view-in-github",
        "colab_type": "text"
      },
      "source": [
        "<a href=\"https://colab.research.google.com/github/InowaR/python_seminars/blob/main/lesson14/seminar14.ipynb\" target=\"_parent\"><img src=\"https://colab.research.google.com/assets/colab-badge.svg\" alt=\"Open In Colab\"/></a>"
      ]
    },
    {
      "cell_type": "code",
      "execution_count": 7,
      "metadata": {
        "colab": {
          "base_uri": "https://localhost:8080/"
        },
        "id": "7kwtaihRbTMq",
        "outputId": "10d9ca89-d430-40d0-940f-5c5477fdc4e1"
      },
      "outputs": [
        {
          "output_type": "execute_result",
          "data": {
            "text/plain": [
              "TestResults(failed=0, attempted=2)"
            ]
          },
          "metadata": {},
          "execution_count": 7
        }
      ],
      "source": [
        "def factorial(n):\n",
        "  if n == 0:\n",
        "    return 1\n",
        "  else:\n",
        "    return n * factorial(n - 1)\n",
        "\n",
        "\n",
        "\"\"\"\n",
        ">>> factorial(5)\n",
        "120\n",
        "\n",
        ">>> factorial(0)\n",
        "1\n",
        "\"\"\"\n",
        "\n",
        "\n",
        "import doctest\n",
        "doctest.testmod()\n"
      ]
    },
    {
      "cell_type": "code",
      "source": [
        "import unittest\n",
        "\n",
        "def factorial(n):\n",
        "  \"\"\"\n",
        "  Функция вычисляет факториал числа.\n",
        "\n",
        "  Args:\n",
        "    n: Целое число.\n",
        "\n",
        "  Returns:\n",
        "    Факториал числа n.\n",
        "  \"\"\"\n",
        "\n",
        "  if n < 0:\n",
        "    raise ValueError(\"n должен быть неотрицательным\")\n",
        "\n",
        "  if n == 0:\n",
        "    return 1\n",
        "  else:\n",
        "    return n * factorial(n - 1)\n",
        "\n",
        "class TestFactorial(unittest.TestCase):\n",
        "\n",
        "  def test_factorial_zero(self):\n",
        "    self.assertEqual(factorial(0), 1)\n",
        "\n",
        "  def test_factorial_positive(self):\n",
        "    self.assertEqual(factorial(5), 120)\n",
        "\n",
        "  def test_factorial_negative(self):\n",
        "    with self.assertRaises(ValueError):\n",
        "      factorial(-1)\n",
        "\n",
        "if __name__ == \"__main__\":\n",
        "  unittest.main()\n",
        "\n",
        "\n",
        "# test_factorial.py"
      ],
      "metadata": {
        "id": "F6a7_uBgiv79"
      },
      "execution_count": null,
      "outputs": []
    },
    {
      "cell_type": "code",
      "source": [
        "import sys\n",
        "import os\n",
        "\n",
        "sys.path.append(os.getcwd())\n",
        "\n",
        "from test_factorial import TestFactorial\n",
        "\n",
        "suite = unittest.TestLoader().loadTestsFromTestCase(TestFactorial)\n",
        "unittest.TextTestRunner().run(suite)"
      ],
      "metadata": {
        "colab": {
          "base_uri": "https://localhost:8080/"
        },
        "id": "I7QVgPQ_guo-",
        "outputId": "788dca60-98c6-4270-c348-1ab8cb08ab80"
      },
      "execution_count": 8,
      "outputs": [
        {
          "output_type": "stream",
          "name": "stderr",
          "text": [
            "...\n",
            "----------------------------------------------------------------------\n",
            "Ran 3 tests in 0.009s\n",
            "\n",
            "OK\n"
          ]
        },
        {
          "output_type": "execute_result",
          "data": {
            "text/plain": [
              "<unittest.runner.TextTestResult run=3 errors=0 failures=0>"
            ]
          },
          "metadata": {},
          "execution_count": 8
        }
      ]
    },
    {
      "cell_type": "code",
      "source": [
        "!pip install pytest"
      ],
      "metadata": {
        "colab": {
          "base_uri": "https://localhost:8080/"
        },
        "id": "tnro60ChjmP6",
        "outputId": "4ed5f06e-ffeb-4bde-e00c-bb1255d53d00"
      },
      "execution_count": 9,
      "outputs": [
        {
          "output_type": "stream",
          "name": "stdout",
          "text": [
            "Requirement already satisfied: pytest in /usr/local/lib/python3.10/dist-packages (7.4.4)\n",
            "Requirement already satisfied: iniconfig in /usr/local/lib/python3.10/dist-packages (from pytest) (2.0.0)\n",
            "Requirement already satisfied: packaging in /usr/local/lib/python3.10/dist-packages (from pytest) (23.2)\n",
            "Requirement already satisfied: pluggy<2.0,>=0.12 in /usr/local/lib/python3.10/dist-packages (from pytest) (1.4.0)\n",
            "Requirement already satisfied: exceptiongroup>=1.0.0rc8 in /usr/local/lib/python3.10/dist-packages (from pytest) (1.2.0)\n",
            "Requirement already satisfied: tomli>=1.0.0 in /usr/local/lib/python3.10/dist-packages (from pytest) (2.0.1)\n"
          ]
        }
      ]
    },
    {
      "cell_type": "code",
      "source": [
        "def factorial(n):\n",
        "  \"\"\"\n",
        "  Функция вычисляет факториал числа.\n",
        "\n",
        "  Args:\n",
        "    n: Целое число.\n",
        "\n",
        "  Returns:\n",
        "    Факториал числа n.\n",
        "  \"\"\"\n",
        "\n",
        "  if n < 0:\n",
        "    raise ValueError(\"n должен быть неотрицательным\")\n",
        "\n",
        "  if n == 0:\n",
        "    return 1\n",
        "  else:\n",
        "    return n * factorial(n - 1)\n",
        "\n",
        "\n",
        "import pytest\n",
        "\n",
        "def test_factorial_zero():\n",
        "  assert factorial(0) == 1\n",
        "\n",
        "def test_factorial_positive():\n",
        "  assert factorial(5) == 120\n",
        "\n",
        "def test_factorial_negative():\n",
        "  with pytest.raises(ValueError):\n",
        "    factorial(-1)\n",
        "\n",
        "# test_factorial1.py"
      ],
      "metadata": {
        "id": "jDHyXs_ZjrOM"
      },
      "execution_count": 12,
      "outputs": []
    },
    {
      "cell_type": "code",
      "source": [
        "!pytest test_factorial1.py"
      ],
      "metadata": {
        "colab": {
          "base_uri": "https://localhost:8080/"
        },
        "id": "HXDHJ741kQ1o",
        "outputId": "3dfc3853-56bd-492d-97fb-e98edf083b7a"
      },
      "execution_count": 14,
      "outputs": [
        {
          "output_type": "stream",
          "name": "stdout",
          "text": [
            "\u001b[1m======================================= test session starts ========================================\u001b[0m\n",
            "platform linux -- Python 3.10.12, pytest-7.4.4, pluggy-1.4.0\n",
            "rootdir: /content\n",
            "plugins: anyio-3.7.1\n",
            "\u001b[1mcollecting ... \u001b[0m\u001b[1m\rcollected 3 items                                                                                  \u001b[0m\n",
            "\n",
            "test_factorial1.py \u001b[32m.\u001b[0m\u001b[32m.\u001b[0m\u001b[32m.\u001b[0m\u001b[32m                                                                       [100%]\u001b[0m\n",
            "\n",
            "\u001b[32m======================================== \u001b[32m\u001b[1m3 passed\u001b[0m\u001b[32m in 0.01s\u001b[0m\u001b[32m =========================================\u001b[0m\n"
          ]
        }
      ]
    }
  ]
}